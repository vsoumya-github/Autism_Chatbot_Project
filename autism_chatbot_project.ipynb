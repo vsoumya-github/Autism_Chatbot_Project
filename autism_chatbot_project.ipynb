{
  "nbformat": 4,
  "nbformat_minor": 0,
  "metadata": {
    "colab": {
      "provenance": []
    },
    "kernelspec": {
      "name": "python3",
      "display_name": "Python 3"
    },
    "language_info": {
      "name": "python"
    }
  },
  "cells": [
    {
      "cell_type": "code",
      "source": [
        "# Autism Support Chatbot (Console Version)\n",
        "\n",
        "def chatbot(user_input):\n",
        "    user_input = user_input.lower()\n",
        "\n",
        "    if \"autism\" in user_input:\n",
        "        return \"Autism is a developmental condition that affects communication and behaviour.\"\n",
        "    elif \"symptoms\" in user_input:\n",
        "        return \"Common symptoms include delayed speech, difficulty with social interaction, and repetitive behaviours.\"\n",
        "    elif \"diagnosis\" in user_input:\n",
        "        return \"Diagnosis usually involves behavioural evaluations by a specialist, often starting before age 3.\"\n",
        "    elif \"treatment\" in user_input:\n",
        "        return \"Treatment can include therapy (speech, occupational, behavioural), special education, and support systems.\"\n",
        "    elif \"support\" in user_input or \"help\" in user_input:\n",
        "        return \"Support for families can include local autism networks, therapists, and parent training programs.\"\n",
        "    elif \"hi\" in user_input or \"hello\" in user_input:\n",
        "        return \"Hi! I'm here to help answer your questions about autism.\"\n",
        "\n",
        "    if \"autism\" in user_input:\n",
        "        return \"Autism is a developmental condition that affects communication and behaviour.\"\n",
        "\n",
        "    # Existing conditions...\n",
        "\n",
        "    elif \"sleep\" in user_input:\n",
        "        return \"Sleep issues are common in children with autism, such as difficulty falling or staying asleep.\"\n",
        "\n",
        "    # More sleep-related questions here...\n",
        "\n",
        "    elif \"why does my autistic child have trouble sleeping\" in user_input:\n",
        "        return \"Many autistic children have trouble sleeping due to sensory sensitivities, anxiety, or differences in melatonin production.\"\n",
        "\n",
        "    elif \"bedtime routine\" in user_input:\n",
        "        return \"A calming bedtime routine might include a warm bath, story time, and a dark, quiet room at the same time every night.\"\n",
        "\n",
        "    elif \"should i give melatonin\" in user_input:\n",
        "        return \"Melatonin is sometimes used, but always consult a pediatrician before giving supplements to your child.\"\n",
        "\n",
        "    else:\n",
        "        return \"I'm still learning. Can you rephrase or ask about autism-related topics?\"\n",
        "\n",
        "\n",
        ""
      ],
      "metadata": {
        "id": "JpA6hZT6Z4dQ"
      },
      "execution_count": 5,
      "outputs": []
    },
    {
      "cell_type": "code",
      "source": [
        "!pip install gradio --quiet\n",
        "import gradio as gr\n",
        "\n",
        "# Interface function\n",
        "def chatbot_response(user_input):\n",
        "    return chatbot(user_input)\n",
        "\n",
        "# Create Gradio interface\n",
        "demo = gr.Interface(fn=chatbot_response,\n",
        "                    inputs=\"text\",\n",
        "                    outputs=\"text\",\n",
        "                    title=\"Autism Support Chatbot\",\n",
        "                    description=\"Ask autism-related questions like symptoms, diagnosis, treatment, or support.\")\n",
        "\n",
        "demo.launch()\n"
      ],
      "metadata": {
        "colab": {
          "base_uri": "https://localhost:8080/",
          "height": 646
        },
        "id": "N3ATC7YtZ9hV",
        "outputId": "2427721f-27d2-494a-e5e3-39edab3fe87d"
      },
      "execution_count": 3,
      "outputs": [
        {
          "output_type": "stream",
          "name": "stdout",
          "text": [
            "It looks like you are running Gradio on a hosted a Jupyter notebook. For the Gradio app to work, sharing must be enabled. Automatically setting `share=True` (you can turn this off by setting `share=False` in `launch()` explicitly).\n",
            "\n",
            "Colab notebook detected. To show errors in colab notebook, set debug=True in launch()\n",
            "* Running on public URL: https://29d18472cc875ba6b3.gradio.live\n",
            "\n",
            "This share link expires in 1 week. For free permanent hosting and GPU upgrades, run `gradio deploy` from the terminal in the working directory to deploy to Hugging Face Spaces (https://huggingface.co/spaces)\n"
          ]
        },
        {
          "output_type": "display_data",
          "data": {
            "text/plain": [
              "<IPython.core.display.HTML object>"
            ],
            "text/html": [
              "<div><iframe src=\"https://29d18472cc875ba6b3.gradio.live\" width=\"100%\" height=\"500\" allow=\"autoplay; camera; microphone; clipboard-read; clipboard-write;\" frameborder=\"0\" allowfullscreen></iframe></div>"
            ]
          },
          "metadata": {}
        },
        {
          "output_type": "execute_result",
          "data": {
            "text/plain": []
          },
          "metadata": {},
          "execution_count": 3
        }
      ]
    }
  ]
}